{
 "cells": [
  {
   "cell_type": "markdown",
   "id": "18252a5c-59fb-4445-a23d-5ed8d51106cf",
   "metadata": {
    "tags": []
   },
   "source": [
    "# [EN.601.664] Artificial Intelligence\n",
    "\n",
    "- JHU Spring 2023\n",
    "- Instuctor: Musad Haque, Ph.D.\n",
    "[`email`](mailto:mhaque5@jhu.edu)\n",
    "[`personal webpage`](https://civspace.jhuapl.edu/people/musad-haque)"
   ]
  },
  {
   "cell_type": "markdown",
   "id": "c5946b4f-27d0-4024-87f0-bf47e973327b",
   "metadata": {
    "tags": []
   },
   "source": [
    "# Final Project\n",
    "\n",
    "## Project Category #2: Decision Trees\n",
    "\n",
    "| Group Member              | JHU email                                           | \n",
    "|:--------------------------|:----------------------------------------------------|\n",
    "| Danny (Iou-Sheng) Chang   | [`email`](mailto:ichang9@jhu.edu) ichang9@jhu.edu   |\n",
    "| Austin (Ching-Yang) Huang | [`email`](mailto:chuan120@jhu.edu) chuan120@jhu.edu |\n",
    "| Yutai Wang                | [`email`](mailto:ywang790@jhu.edu) ywang790@jhu.edu |\n",
    "| Zijun Ding                | [`email`](mailto:zding26@jhu.edu) zding26@jhu.edu   |\n",
    "| Xinzhuo Yan               | [`email`](mailto:xyan28@jhu.edu) xyan28@jhu.edu     |\n",
    "| Bingchen Lu               | [`email`](mailto:blu16@jhu.edu) blu16@jhu.edu       |\n"
   ]
  },
  {
   "cell_type": "markdown",
   "id": "eab8db84-1f7d-4c7b-96a6-dcabf44c9483",
   "metadata": {
    "tags": []
   },
   "source": [
    "## Deliverables"
   ]
  },
  {
   "cell_type": "markdown",
   "id": "314938f9-2cb5-4d72-9277-422be9998f11",
   "metadata": {},
   "source": [
    "### Recording of Lecture"
   ]
  },
  {
   "cell_type": "markdown",
   "id": "806971c9-9eb7-42ec-82e9-fbd4119fd621",
   "metadata": {},
   "source": [
    "[Link to Recording of Lecture](https://drive.google.com/file/d/1S9747kXPY2jqO75LyD-fAZUJVwgQKWw0/view?usp=share_link)"
   ]
  },
  {
   "cell_type": "markdown",
   "id": "6c35c9d2-3909-4736-bfda-43562e132608",
   "metadata": {},
   "source": [
    "### Presentation Slides"
   ]
  },
  {
   "cell_type": "markdown",
   "id": "ef06c047-f189-4ee0-aa8b-71ccddee5a97",
   "metadata": {},
   "source": [
    "[Link to Presentation Slides](https://docs.google.com/presentation/d/1SDlKnocx_R2BNSgG3d9Up-Z3Tzn3iSdk/edit?usp=share_link&ouid=112215371821412836121&rtpof=true&sd=true)"
   ]
  },
  {
   "cell_type": "markdown",
   "id": "b0e36bd7-466a-4689-9698-0f19413bad0d",
   "metadata": {
    "tags": []
   },
   "source": [
    "## Import Required Packages"
   ]
  },
  {
   "cell_type": "markdown",
   "id": "a871e2a9-a1eb-4b55-a322-6bfed829e63d",
   "metadata": {
    "tags": []
   },
   "source": [
    "### Add Basic Imports"
   ]
  },
  {
   "cell_type": "markdown",
   "id": "43d70270-24e3-4421-aaa3-0df29499d87a",
   "metadata": {},
   "source": [
    "[`NumPy`](https://numpy.org/)"
   ]
  },
  {
   "cell_type": "code",
   "execution_count": 1,
   "id": "332c9bcd-5701-4dc3-87fe-20048754346d",
   "metadata": {},
   "outputs": [],
   "source": [
    "import numpy as np"
   ]
  },
  {
   "cell_type": "markdown",
   "id": "c31931ac-e066-452b-93e1-cd80137cc47e",
   "metadata": {},
   "source": [
    "[`Counter`](https://docs.python.org/3/library/collections.html#collections.Counter) [`deque`](https://docs.python.org/3/library/collections.html#collections.deque)"
   ]
  },
  {
   "cell_type": "code",
   "execution_count": 2,
   "id": "9aab7a4a-5102-4b83-bf7a-205d16629b17",
   "metadata": {},
   "outputs": [],
   "source": [
    "from collections import Counter\n",
    "from collections import deque"
   ]
  },
  {
   "cell_type": "markdown",
   "id": "e25fcd0d-7f2f-450a-a729-28ff1e0ca688",
   "metadata": {},
   "source": [
    "[`os`](https://docs.python.org/3/library/os.html)"
   ]
  },
  {
   "cell_type": "code",
   "execution_count": 3,
   "id": "a1c70d86-fe18-40ba-8e6e-ae24aaac8b81",
   "metadata": {},
   "outputs": [],
   "source": [
    "import os"
   ]
  },
  {
   "cell_type": "markdown",
   "id": "5360ae70-a562-400e-b203-72c00818e110",
   "metadata": {
    "tags": []
   },
   "source": [
    "### Add Imports for matplotlib"
   ]
  },
  {
   "cell_type": "markdown",
   "id": "55da5697-75be-48c1-b2f6-d5bcf891ea58",
   "metadata": {},
   "source": [
    "[`matplotlib`](https://matplotlib.org/) [`pyplot`](https://matplotlib.org/3.5.3/api/_as_gen/matplotlib.pyplot.html)"
   ]
  },
  {
   "cell_type": "code",
   "execution_count": 4,
   "id": "ecdeacb0-aa3a-4df5-a0f0-ea3242417f41",
   "metadata": {},
   "outputs": [],
   "source": [
    "import matplotlib.pyplot as plt"
   ]
  },
  {
   "cell_type": "markdown",
   "id": "ea75430e-0f7d-4c7a-a70a-71e5f2262a2e",
   "metadata": {
    "tags": []
   },
   "source": [
    "### Add Imports for scikit-learn Datasets"
   ]
  },
  {
   "cell_type": "markdown",
   "id": "c67c2809-6d40-4a9e-81b4-1ced041612f8",
   "metadata": {},
   "source": [
    "[`scikit-learn`](https://scikit-learn.org/stable/index.html) [`Iris Dataset`](https://scikit-learn.org/stable/modules/generated/sklearn.datasets.load_iris.html) [`Digits Dataset`](https://scikit-learn.org/stable/modules/generated/sklearn.datasets.load_digits.html) [`PCA`](https://scikit-learn.org/stable/modules/generated/sklearn.decomposition.PCA.html)"
   ]
  },
  {
   "cell_type": "code",
   "execution_count": 5,
   "id": "55546d90-bc11-45db-aaa2-62069e30f749",
   "metadata": {},
   "outputs": [],
   "source": [
    "from sklearn.datasets import load_iris\n",
    "from sklearn.datasets import load_digits\n",
    "from sklearn.decomposition import PCA"
   ]
  },
  {
   "cell_type": "markdown",
   "id": "5ead9378-b740-4ccd-b8fa-730fe40a8fe5",
   "metadata": {},
   "source": [
    "### Add Imports for scikit-learn Decision Tree Classifier"
   ]
  },
  {
   "cell_type": "markdown",
   "id": "fb0ba04b-4502-4b38-b12f-9ac47b48fbe9",
   "metadata": {},
   "source": [
    "[`tree`](https://scikit-learn.org/stable/modules/generated/sklearn.tree.DecisionTreeClassifier.html): for obtaining ground truth of test cases classification prediction"
   ]
  },
  {
   "cell_type": "code",
   "execution_count": 6,
   "id": "14d0578c-d10e-4c23-a36a-5c7999f9a852",
   "metadata": {},
   "outputs": [],
   "source": [
    "from sklearn import tree"
   ]
  },
  {
   "cell_type": "markdown",
   "id": "de4a3cbb-c8d5-47bd-88ac-aa056045b4fe",
   "metadata": {
    "tags": []
   },
   "source": [
    "## The Decision Tree Classifier\n",
    "\n",
    "The Decision Tree Classifier, which recursively splits data based on the specified splitting criterion to create a tree structure for predicting class labels. Contains methods to fit the model, predict class labels, and print ASCII visualization of trees."
   ]
  },
  {
   "cell_type": "markdown",
   "id": "7827e453-4e4b-445a-8675-85b48f4c9943",
   "metadata": {
    "tags": []
   },
   "source": [
    "### Functions"
   ]
  },
  {
   "cell_type": "markdown",
   "id": "6ce94924-1f23-4be2-9eba-4db6dac9bf72",
   "metadata": {
    "tags": []
   },
   "source": [
    "- `__init__`\n",
    "```python\n",
    "def __init__(self, max_depth=None)\n",
    "```\n",
    "- `fit`: the _fit_ function builds the decision tree classifier using the specified splitting criterion.\n",
    "```python\n",
    "def fit(self, datas, labels, criterion=\"gini-impurity\")\n",
    "```\n",
    "- `predict`: the _perdict_ function predicts classes of the input datas.\n",
    "```python\n",
    "def predict(self, datas)\n",
    "```\n",
    "- `print_decision_tree`: the _print_decision_tree_ function prints an ASCII visualization of the decision tree to a `.txt file` if _file_name_ is specified, else to the `terminal`.\n",
    "```python\n",
    "def print_decision_tree(self, feature_names, class_names, criterion=\"gini-impurity\", file_name=None, show_details=True)\n",
    "```\n",
    "- `_grow_tree`: the internal use _grow_tree_ function builds the decision tree by recursively finding the best split using the specified splitting criterion.\n",
    "```python\n",
    "def _grow_tree(self, datas, labels, criterion, depth=0)\n",
    "```\n",
    "- `_predict`: the internal use _predict_ function predicts the class for a single input data.\n",
    "```python\n",
    "def _predict(self, inputs)\n",
    "```"
   ]
  },
  {
   "cell_type": "markdown",
   "id": "62c13d4d-14dd-4cc4-a567-5d3ce9474296",
   "metadata": {
    "tags": []
   },
   "source": [
    "### Arguments"
   ]
  },
  {
   "cell_type": "markdown",
   "id": "41bff3ff-7e2f-4dac-8ef5-f5dfe8eeb475",
   "metadata": {},
   "source": [
    "- **criterion** str: the function to measure the quality of a split.\n",
    "```python\n",
    "criterion=[\"gini-impurity\", \"chi-square\", \"information-gain\", \"reduction-in-variance\"], default=\"gini-impurity\"\n",
    "```\n",
    "- **max_depth** int: the maximum depth of the tree; if None, then nodes are expanded until all leaves are pure.\n",
    "```python\n",
    "max_depth int, default=None\n",
    "```\n",
    "- **file_name** str: the filename to save the ASCII visualization of the decision tree; if None, then display in terminal.\n",
    "```python\n",
    "file_name str, default=None\n",
    "```\n",
    "- **show_details** bool: **False** to print only the split decision; **True** to print also the criterion purity score, total number of samples, and number of samples per class.\n",
    "```python\n",
    "max_depth bool, default=True\n",
    "```"
   ]
  },
  {
   "cell_type": "markdown",
   "id": "0be220e5-99bd-4e5c-95c6-7ba70d048e0e",
   "metadata": {
    "tags": []
   },
   "source": [
    "### class DecisionTreeClassifier"
   ]
  },
  {
   "cell_type": "code",
   "execution_count": 7,
   "id": "a861df5b-203e-4763-b618-dfcb438da300",
   "metadata": {},
   "outputs": [],
   "source": [
    "class DecisionTreeClassifier:\n",
    "    \"\"\"\n",
    "    Class of the Decision Tree Classifier.\n",
    "    \"\"\"\n",
    "    def __init__(self, max_depth=None):\n",
    "        self.max_depth = max_depth if max_depth else np.inf\n",
    "\n",
    "    def fit(self, datas, labels, criterion=\"gini-impurity\"):\n",
    "        \"\"\"\n",
    "        Build the decision tree classifier using the specified splitting criterion.\n",
    "        \"\"\"\n",
    "        self.n_classes_ = len(set(labels))\n",
    "        self.n_features_ = datas.shape[1]\n",
    "        self.treeNode_ = self._grow_tree(datas, labels, criterion)\n",
    "\n",
    "    def predict(self, datas):\n",
    "        \"\"\"\n",
    "        Predict classes of the input datas.\n",
    "        \"\"\"\n",
    "        return [self._predict(inputs) for inputs in datas]\n",
    "\n",
    "    def print_decision_tree(self, feature_names, class_names, criterion=\"gini-impurity\", file_name=None, show_details=True):\n",
    "        \"\"\"\n",
    "        Print an ASCII visualization of the decision tree to a `.txt file` if _file_name_ is specified, else to the `terminal`.\n",
    "        \"\"\"\n",
    "        self.treeNode_._print_decision_tree(feature_names, class_names, criterion, file_name, show_details)\n",
    "\n",
    "    def _grow_tree(self, datas, labels, criterion, depth=0):\n",
    "        \"\"\"\n",
    "        Build the decision tree by recursively finding the best split using the specified splitting criterion.\n",
    "        \"\"\"\n",
    "        num_samples_per_class = [np.sum(labels == i) for i in range(self.n_classes_)]\n",
    "        predicted_class = np.argmax(num_samples_per_class)\n",
    "        node = Node(\n",
    "            node_purity=SplittingCriterion(criterion=criterion, \n",
    "                                           n_classes=self.n_classes_, \n",
    "                                           n_features=self.n_features_)._node_purity(datas, labels, criterion = criterion),\n",
    "            num_samples=labels.size,\n",
    "            num_samples_per_class=num_samples_per_class,\n",
    "            predicted_class=predicted_class,\n",
    "        )\n",
    "\n",
    "        # Recursively split until maximum depth is reached.\n",
    "        # Grow the child nodes using the best split computed by the the specified splitting criterion.\n",
    "        if depth < self.max_depth:\n",
    "            idx, thr = SplittingCriterion(criterion=criterion, \n",
    "                                          n_classes=self.n_classes_, \n",
    "                                          n_features=self.n_features_)._split(datas,labels,criterion=criterion)\n",
    "            if idx is not None:\n",
    "                indices_left = datas[:, idx] < thr\n",
    "                X_left, y_left = datas[indices_left], labels[indices_left]\n",
    "                X_right, y_right = datas[~indices_left], labels[~indices_left]\n",
    "                node.feature_index = idx\n",
    "                node.threshold = thr\n",
    "                node.left = self._grow_tree(X_left, y_left, criterion, depth + 1)\n",
    "                node.right = self._grow_tree(X_right, y_right, criterion, depth + 1)\n",
    "        return node\n",
    "\n",
    "    def _predict(self, inputs):\n",
    "        \"\"\"\n",
    "        Predict the class for a single input data.\n",
    "        \"\"\"\n",
    "        node = self.treeNode_\n",
    "        while node.left:\n",
    "            if inputs[node.feature_index] < node.threshold:\n",
    "                node = node.left\n",
    "            else:\n",
    "                node = node.right\n",
    "        return node.predicted_class"
   ]
  },
  {
   "cell_type": "markdown",
   "id": "6d23a4d5-0cb8-46c3-b63f-feb9950d5e11",
   "metadata": {
    "tags": []
   },
   "source": [
    "## The Splitting Criterion\n",
    "\n",
    "The Splitting Criterion class contains all supported node splitting algorithms, computation of the node's purity score, and logging information for debugging purpose."
   ]
  },
  {
   "cell_type": "markdown",
   "id": "e15e7757-e427-48da-8442-8ca0b1a63c2e",
   "metadata": {
    "tags": []
   },
   "source": [
    "### Supported Node Splitting Criteria"
   ]
  },
  {
   "cell_type": "markdown",
   "id": "e9863c96-3536-4892-ac41-c0c496650fc6",
   "metadata": {},
   "source": [
    "- Gini Impurity\n",
    "- Chi-Square\n",
    "- Information Gain\n",
    "- Reduction in Variance\n",
    "\n",
    "For a more comprehensive understanding of the node splitting criteria, we highly recommend reviewing our [Recording of Lecture](https://drive.google.com/file/d/1S9747kXPY2jqO75LyD-fAZUJVwgQKWw0/view?usp=share_link) and [Presentation Slides](https://docs.google.com/presentation/d/1SDlKnocx_R2BNSgG3d9Up-Z3Tzn3iSdk/edit?usp=share_link&ouid=112215371821412836121&rtpof=true&sd=true)."
   ]
  },
  {
   "cell_type": "markdown",
   "id": "e54341d3-116f-4d17-aff1-ca71b703ac76",
   "metadata": {
    "tags": []
   },
   "source": [
    "### Functions"
   ]
  },
  {
   "cell_type": "markdown",
   "id": "0914ef1f-8216-407a-8f28-0c8d5a0bec0b",
   "metadata": {},
   "source": [
    "- `__init__`\n",
    "```python\n",
    "def __init__(self, criterion, n_classes=0, n_features=0)\n",
    "```\n",
    "- `_node_purity`: the internal use _node_purity_ function computes the purity score of current node based on the specified splitting criterion.\n",
    "```python\n",
    "def _node_purity(self, datas, labels, criterion)\n",
    "```\n",
    "- `_split`: the internal use _split_ function splits the data using the specified splitting criterion.\n",
    "```python\n",
    "def _split(self, datas, labels, criterion)\n",
    "```\n",
    "- `_print_split_debug`: the internal use _print_split_debug_ function logs the best_idx and best_thr information in terminal for debugging.\n",
    "```python\n",
    "def _print_split_debug(self, best_idx, best_thr)\n",
    "```\n",
    "- `_gini_impurity`: the internal use _gini_impurity_ function compute the Gini Impurity of a non-empty node.\n",
    "```python\n",
    "def _gini_impurity(self, datas, labels)\n",
    "```\n",
    "- `_chi_square`: the internal use _chi_square_ function compute the (Max) Chi-Square of a non-empty node.\n",
    "```python\n",
    "def _chi_square(self, datas, labels)\n",
    "```\n",
    "- `_information_gain`: the internal use _information_gain_ function computes the Information Gain of a non-empty node.\n",
    "```python\n",
    "def _information_gain(self, datas, labels)\n",
    "```\n",
    "- `_reduction_in_variance`: the internal use _reduction_in_variance_ function computes the (min) Variance of a non-empty node.\n",
    "```python\n",
    "def _reduction_in_variance(self, datas, labels)\n",
    "```\n",
    "- `_best_split_gini`: the internal use _best_split_gini_ function finds the best split for a node based on the Gini Impurity splitting criterion.\n",
    "```python\n",
    "def _best_split_gini(self, datas, labels)\n",
    "```\n",
    "- `_best_split_chi`: the internal use _best_split_chi_ function finds the best split for a node based on the Chi-Square splitting criterion.\n",
    "```python\n",
    "def _best_split_chi(self, datas, labels)\n",
    "```\n",
    "- `_best_split_information_gain`: the internal use _best_split_information_gain_ function finds the best split for a node based on the Information Gain splitting criterion.\n",
    "```python\n",
    "def _best_split_information_gain(self, datas, labels)\n",
    "```\n",
    "- `_best_split_reduction_in_variance`: the internal use _best_split_reduction_in_variance_ function finds the best split for a node based on the Reduction in Variance splitting criterion.\n",
    "```python\n",
    "def _best_split_reduction_in_variance(self, datas, labels)\n",
    "```  "
   ]
  },
  {
   "cell_type": "markdown",
   "id": "2f4a8087-23ee-4f18-8c38-03dd6e09baec",
   "metadata": {
    "tags": []
   },
   "source": [
    "### Arguments"
   ]
  },
  {
   "cell_type": "markdown",
   "id": "e7af835f-ed47-49c9-92cb-3731c3d7cd80",
   "metadata": {},
   "source": [
    "- **datas** List[List[float]]: the input datas.\n",
    "```python\n",
    "datas.shape = (n_samples, n_features)\n",
    "```\n",
    "- **labels** List[int]: the labels for the input datas.\n",
    "```python\n",
    "labels.shape = (n_samples)\n",
    "```"
   ]
  },
  {
   "cell_type": "markdown",
   "id": "15b09de6-71b6-416e-a86b-f4338f512576",
   "metadata": {
    "tags": []
   },
   "source": [
    "### Returns"
   ]
  },
  {
   "cell_type": "markdown",
   "id": "89686e89-e39e-4d1a-8745-f171c7370051",
   "metadata": {},
   "source": [
    "- **best_idx** int: the index of the feature for the best split, return None if no split is found.\n",
    "```python\n",
    "best_idx int, default=None\n",
    "```\n",
    "- **best_thr** float: the threshold to use for the best split, return None if no split is found.\n",
    "```python\n",
    "best_thr float, default=None\n",
    "```"
   ]
  },
  {
   "cell_type": "markdown",
   "id": "af58ca03-e8a6-45a2-9529-c0b125aa813e",
   "metadata": {
    "tags": []
   },
   "source": [
    "### class SplittingCriterion"
   ]
  },
  {
   "cell_type": "code",
   "execution_count": 8,
   "id": "366fa3ab-3fa7-43d4-9505-421e48f676f5",
   "metadata": {},
   "outputs": [],
   "source": [
    "class SplittingCriterion:\n",
    "    \"\"\"\n",
    "    Class of the Supported Splitting Criteria.\n",
    "    \"\"\"\n",
    "    def __init__(self, criterion, n_classes=0, n_features=0):\n",
    "        self.criterion = criterion\n",
    "        self.n_classes_ = n_classes\n",
    "        self.n_features_ = n_features\n",
    "\n",
    "    def _node_purity(self, datas, labels, criterion):\n",
    "        \"\"\"\n",
    "        Compute the purity parameter of current data based on the specified splitting criterion.\n",
    "        \"\"\"\n",
    "        split_criteria = {\n",
    "            \"gini-impurity\": self._gini_impurity,\n",
    "            \"chi-square\": self._chi_square,\n",
    "            \"information-gain\": self._information_gain,\n",
    "            \"reduction-in-variance\": self._reduction_in_variance\n",
    "        }\n",
    "        if criterion in split_criteria:\n",
    "            return split_criteria[criterion](datas, labels)\n",
    "        else:\n",
    "            raise ValueError(f\"Invalid splitting criterion: {criterion}\")\n",
    "\n",
    "    def _split(self, datas, labels, criterion):\n",
    "        \"\"\"\n",
    "        Split the data using the specified splitting criterion.\n",
    "        \"\"\"\n",
    "        split_criteria = {\n",
    "            \"gini-impurity\": self._best_split_gini,\n",
    "            \"chi-square\": self._best_split_chi,\n",
    "            \"information-gain\": self._best_split_information_gain,\n",
    "            \"reduction-in-variance\": self._best_split_reduction_in_variance\n",
    "        }\n",
    "        if criterion in split_criteria:\n",
    "            return split_criteria[criterion](datas, labels)\n",
    "        else:\n",
    "            raise ValueError(f\"Invalid splitting criterion: {criterion}\")\n",
    "\n",
    "    def _print_split_debug(self, best_idx, best_thr):\n",
    "        \"\"\"\n",
    "        Log the best_idx and best_thr information in terminal for debugging.\n",
    "        \"\"\"\n",
    "        if best_idx and best_thr:\n",
    "            return print(f\"{best_idx:>{max(len(str(best_idx)), len('None'))}}\", '\\t',\n",
    "                         f\"{best_thr:>0.{max(3, len('None'))}e}\")\n",
    "        else:   \n",
    "            return print(\"None\", '\\t', \"None\")\n",
    "\n",
    "    def _gini_impurity(self, datas, labels):\n",
    "        \"\"\"\n",
    "        Compute the Gini Impurity of a non-empty node.\n",
    "        \"\"\"\n",
    "        m = labels.size\n",
    "        return 1.0 - sum((np.sum(labels == c) / m) ** 2 for c in range(self.n_classes_))\n",
    "    \n",
    "    def _chi_square(self, datas, labels):\n",
    "        \"\"\"\n",
    "        Compute the (Max) Chi-Square of a non-empty node.\n",
    "        \"\"\"\n",
    "        n_classes = len(set(labels))\n",
    "\n",
    "        # Compute the Expected values in matrix form.\n",
    "        feature_count = datas.sum(axis=0).reshape(1, -1)\n",
    "        prob = Counter(labels)\n",
    "        total_count = sum(prob.values())\n",
    "        class_prob = np.array([[prob[i] for i in sorted(prob)]]) / total_count\n",
    "        expected = np.dot(class_prob.T, feature_count)\n",
    "\n",
    "        # Compute the Observed values in matrix form.\n",
    "        labels_mat = np.zeros((n_classes, len(datas)))\n",
    "        mat_map = {}\n",
    "        cur_i = 0\n",
    "        for c in sorted(set(labels)):\n",
    "            if c not in mat_map:\n",
    "                mat_map[c] = cur_i\n",
    "            cur_i += 1\n",
    "        for idy,c in enumerate(labels):\n",
    "            labels_mat[mat_map[c]][idy] = 1\n",
    "        observed = labels_mat @ datas\n",
    "\n",
    "        # Compute the Chi-square values to find the best split feature.\n",
    "        chisq = observed\n",
    "        chisq -= expected\n",
    "        chisq **= 2\n",
    "        with np.errstate(invalid=\"ignore\"):\n",
    "            chisq /= expected\n",
    "        chisq = chisq.sum(axis=0)\n",
    "\n",
    "        return max(chisq)\n",
    "\n",
    "    def _information_gain(self, datas, labels):\n",
    "        \"\"\"\n",
    "        Compute the Information Gain of a non-empty node.\n",
    "        \"\"\"\n",
    "        m = labels.size\n",
    "        with np.errstate(divide='ignore', invalid='ignore'):\n",
    "            return 1.0 - sum(np.nan_to_num((np.sum(labels == c) / m)) * np.nan_to_num(np.log2(np.sum(labels==c) / m)) \n",
    "                             for c in range(self.n_classes_))\n",
    "\n",
    "    def _reduction_in_variance(self, datas, labels):\n",
    "        \"\"\"\n",
    "        Compute the (min) Variance of a non-empty node.\n",
    "        \"\"\"\n",
    "        datas_mean = np.mean(datas, axis=0)\n",
    "        m = labels.size\n",
    "        min_variance = np.inf\n",
    "        for idx in range(self.n_features_):\n",
    "            features = datas[:,idx]\n",
    "            variance = sum((x - datas_mean[idx])**2 for x in features) / m\n",
    "            min_variance = min(variance, min_variance)\n",
    "        return min_variance\n",
    "\n",
    "    def _best_split_gini(self, datas, labels):\n",
    "        \"\"\"\n",
    "        Find the best split for a node based on the Gini Impurity splitting criterion.\n",
    "        \"\"\"\n",
    "        # Need at least two elements to split a node.\n",
    "        m = labels.size\n",
    "        n_classes = len(set(labels))\n",
    "        if m <= 1 or n_classes == 1:\n",
    "            return None, None\n",
    "        \n",
    "        # Count the frequencies of each class of the current node.\n",
    "        num_parent = np.bincount(labels, minlength=self.n_classes_)\n",
    "\n",
    "        # Initiialize parameters to find the best dividing threshold\n",
    "        best_idx, best_thr, best_gini = None, None, np.inf\n",
    "\n",
    "        # Loop through all features.\n",
    "        for idx in range(self.n_features_):\n",
    "            # Sort data along selected feature.\n",
    "            sorted_datas, sorted_labels = zip(*sorted(zip(datas[:, idx], labels)))\n",
    "\n",
    "            # Iterate over all possible split positions.\n",
    "            num_left = np.zeros(self.n_classes_)\n",
    "            num_right = num_parent.copy()\n",
    "            for i in range(1, m): \n",
    "                c = sorted_labels[i - 1]\n",
    "                num_left[c] += 1\n",
    "                num_right[c] -= 1\n",
    "\n",
    "                # Skip this split if the two points have identical feature values.\n",
    "                if sorted_datas[i] == sorted_datas[i - 1]:\n",
    "                    continue\n",
    "                \n",
    "                # Compute the Gini Impurity of child nodes.\n",
    "                gini_impurity_left = 1.0 - sum((num_left[x] / i) ** 2 for x in range(self.n_classes_))\n",
    "                gini_impurity_right = 1.0 - sum((num_right[x] / (m - i)) ** 2 for x in range(self.n_classes_))\n",
    "                \n",
    "                # Compute the Gini Impurity of the split as the weighted average.\n",
    "                gini_impurity_split = (i * gini_impurity_left + (m - i) * gini_impurity_right) / m\n",
    "\n",
    "                # Update best split (lowest value of Gini Impurity).\n",
    "                if gini_impurity_split < best_gini:\n",
    "                    best_gini = gini_impurity_split\n",
    "                    best_idx = idx\n",
    "                    best_thr = (sorted_datas[i] + sorted_datas[i - 1]) / 2 # midpoint\n",
    "\n",
    "        # self._print_split_debug(best_idx, best_thr)\n",
    "        return best_idx, best_thr\n",
    "\n",
    "    def _best_split_chi(self, datas, labels):\n",
    "        \"\"\"\n",
    "        Find the best split for a node based on the Chi-Square splitting criterion.\n",
    "        \"\"\"\n",
    "        # Need at least two elements to split a node.\n",
    "        m = labels.size\n",
    "        n_classes = len(set(labels))\n",
    "        if m <= 1 or n_classes == 1:\n",
    "            return None, None\n",
    "\n",
    "        # Compute the Expected values in matrix form.\n",
    "        feature_count = datas.sum(axis=0).reshape(1, -1)\n",
    "        prob = Counter(labels)\n",
    "        total_count = sum(prob.values())\n",
    "        class_prob = np.array([[prob[i] for i in sorted(prob)]]) / total_count\n",
    "        expected = np.dot(class_prob.T, feature_count)\n",
    "\n",
    "        # Compute the Observed values in matrix form.\n",
    "        labels_mat = np.zeros((n_classes, len(datas)))\n",
    "        mat_map = {}\n",
    "        cur_i = 0\n",
    "        for c in sorted(set(labels)):\n",
    "            if c not in mat_map:\n",
    "                mat_map[c] = cur_i\n",
    "            cur_i += 1\n",
    "        for idy,c in enumerate(labels):\n",
    "            labels_mat[mat_map[c]][idy] = 1\n",
    "        observed = labels_mat @ datas\n",
    "\n",
    "        # Compute the Chi-square values to find the best split feature.\n",
    "        chisq = observed\n",
    "        chisq -= expected\n",
    "        chisq **= 2\n",
    "        with np.errstate(divide='ignore', invalid='ignore'):\n",
    "            chisq /= expected\n",
    "        chisq = chisq.sum(axis=0)\n",
    "\n",
    "        # Locate the best split feature index.\n",
    "        best_idx = list(chisq).index(max(np.nan_to_num(chisq)))\n",
    "        \n",
    "        # Initiialize parameters to find the best dividing threshold.\n",
    "        best_thr, best_chi2 = None, -np.inf\n",
    "\n",
    "        # Sort data along selected feature.\n",
    "        sorted_datas, sorted_labels = zip(*sorted(zip(datas[:, best_idx], labels)))\n",
    "        \n",
    "        # Loop through all features.\n",
    "        for i in range(1, m):\n",
    "            left, right = sorted_labels[:i], sorted_labels[i:]\n",
    "            left_class, right_class = Counter(left), Counter(right)\n",
    "            \n",
    "            # Skip this split if the two points have identical feature values.\n",
    "            if sorted_datas[i] == sorted_datas[i - 1]:\n",
    "                continue\n",
    "\n",
    "            # Compute the Expected values.\n",
    "            data = np.zeros((self.n_classes_, 2))\n",
    "            for n in range(self.n_classes_):\n",
    "                data[n][0] = left_class[n]\n",
    "                data[n][1] = right_class[n]\n",
    "            row_sum = np.sum(data, axis=1)\n",
    "            col_sum = np.sum(data, axis=0)\n",
    "            total_sum = np.sum(data)\n",
    "            expected = np.outer(row_sum, col_sum) / total_sum\n",
    "\n",
    "            # Compute the Chi-Square value of the split as the sum of Chi-square values of child nodes.\n",
    "            with np.errstate(divide='ignore', invalid='ignore'):\n",
    "                chi_squared = np.sum(np.nan_to_num((data - expected)**2 / expected))\n",
    "\n",
    "            # Update best split (highest value of Chi-Square).\n",
    "            if chi_squared > best_chi2:\n",
    "                best_chi2 = chi_squared\n",
    "                best_thr = (sorted_datas[i] + sorted_datas[i - 1]) / 2 # midpoint\n",
    "        \n",
    "        # self._print_split_debug(best_idx, best_thr)\n",
    "        return best_idx, best_thr\n",
    "\n",
    "    def _best_split_information_gain(self, datas, labels):\n",
    "        \"\"\"\n",
    "        Find the best split for a node based on the Information Gain splitting criterion.\n",
    "        \"\"\"\n",
    "        # Need at least two elements to split a node.\n",
    "        m = labels.size\n",
    "        n_classes = len(set(labels))\n",
    "        if m <= 1 or n_classes == 1:\n",
    "            return None, None\n",
    "        \n",
    "        # Count the frequencies of each class of the current node.\n",
    "        num_parent = np.bincount(labels, minlength=self.n_classes_)\n",
    "\n",
    "        # Initiialize parameters to find the best dividing threshold\n",
    "        best_idx, best_thr, best_gain = None, None, -np.inf\n",
    "\n",
    "        # Loop through all features.\n",
    "        for idx in range(self.n_features_):\n",
    "            # Sort data along selected feature.\n",
    "            sorted_datas, sorted_labels = zip(*sorted(zip(datas[:, idx], labels)))\n",
    "\n",
    "            # Iterate over all possible split positions.\n",
    "            num_left = np.zeros(self.n_classes_)\n",
    "            num_right = num_parent.copy()\n",
    "            for i in range(1, m):\n",
    "                c = sorted_labels[i - 1]\n",
    "                num_left[c] += 1\n",
    "                num_right[c] -= 1\n",
    "\n",
    "                # Skip this split if the two points have identical feature values.\n",
    "                if sorted_datas[i] == sorted_datas[i - 1]:\n",
    "                    continue\n",
    "                \n",
    "                # Compute the Entropy of child nodes.\n",
    "                with np.errstate(divide='ignore', invalid='ignore'):\n",
    "                    entropy_left  = -sum(np.nan_to_num((num_left[x] / i)) * np.nan_to_num(np.log2(num_left[x] / i)) \n",
    "                                         for x in range(self.n_classes_))\n",
    "                    entropy_right = -sum(np.nan_to_num((num_right[x] / (m - i))) * np.nan_to_num(np.log2(num_right[x] / (m - i))) \n",
    "                                         for x in range(self.n_classes_))\n",
    "\n",
    "                # Compute the Entropy of the split as the weighted average.\n",
    "                # Compute the Information Gain of the split from Entropy of the split.\n",
    "                entropy_split = (i * entropy_left + (m - i) * entropy_right) / m\n",
    "                information_gain_split = 1 - entropy_split\n",
    "\n",
    "                # Update best split (highest value of Information Gain).\n",
    "                if information_gain_split > best_gain:\n",
    "                    best_gain = information_gain_split\n",
    "                    best_idx = idx\n",
    "                    best_thr = (sorted_datas[i] + sorted_datas[i - 1]) / 2 # midpoint\n",
    "\n",
    "        # self._print_split_debug(best_idx, best_thr)\n",
    "        return best_idx, best_thr\n",
    "\n",
    "    def _best_split_reduction_in_variance(self, datas, labels):\n",
    "        \"\"\"\n",
    "        Find the best split for a node based on the Reduction in Variance splitting criterion.\n",
    "        \"\"\"\n",
    "        # Need at least two elements to split a node.\n",
    "        m = labels.size\n",
    "        n_classes = len(set(labels))\n",
    "        if m <= 1 or n_classes == 1:\n",
    "            return None, None\n",
    "\n",
    "        # Initiialize parameters to find the best dividing threshold\n",
    "        best_idx, best_thr, best_variance = None, None, np.inf\n",
    "\n",
    "        # Loop through all features.\n",
    "        for idx in range(self.n_features_):\n",
    "            # Sort data along selected feature.\n",
    "            sorted_datas, sorted_labels = zip(*sorted(zip(datas[:, idx], labels)))\n",
    "\n",
    "            # Iterate over all possible split positions.\n",
    "            data_left = []\n",
    "            data_right = deque(sorted_datas)\n",
    "            for i in range(1, m):\n",
    "                data_left.append(data_right.popleft())\n",
    "\n",
    "                # Skip this split if the two points have identical feature values.\n",
    "                if sorted_datas[i] == sorted_datas[i - 1]:\n",
    "                    continue\n",
    "\n",
    "                # Compute the Mean of child nodes.\n",
    "                mean_left = np.mean(data_left)\n",
    "                mean_right = np.mean(data_right)\n",
    "\n",
    "                # Compute the Variance of child nodes.\n",
    "                with np.errstate(divide='ignore', invalid='ignore'):\n",
    "                    variance_left = sum((x - mean_left)**2 for x in data_left) / i\n",
    "                    variance_right = sum((x - mean_right)**2 for x in data_right) / (m-i)\n",
    "\n",
    "                # Compute the Variance of the split as the weighted average.\n",
    "                variance_split = (i * variance_left + (m - i) * variance_right) / m\n",
    "\n",
    "                # Update best split (lowest value of variance).\n",
    "                if variance_split < best_variance:\n",
    "                    best_variance = variance_split\n",
    "                    best_idx = idx\n",
    "                    best_thr = (sorted_datas[i] + sorted_datas[i - 1]) / 2  # midpoint\n",
    "                \n",
    "        # self._print_split_debug(best_idx, best_thr)\n",
    "        return best_idx, best_thr"
   ]
  },
  {
   "cell_type": "markdown",
   "id": "ddb0dc7c-006a-4b8f-81d3-ac0a1dd244c2",
   "metadata": {
    "jp-MarkdownHeadingCollapsed": true,
    "tags": []
   },
   "source": [
    "## The Decision Tree Node\n",
    "\n",
    "The Node class contains the properties for a node in decision tree, and the printing methods for visualizing trees by ASCII."
   ]
  },
  {
   "cell_type": "markdown",
   "id": "5b325c0c-46c6-4d4f-af4d-29bac9cea564",
   "metadata": {
    "tags": []
   },
   "source": [
    "### Functions"
   ]
  },
  {
   "cell_type": "markdown",
   "id": "dd61f69a-e9eb-42e5-95e8-eb067c88cd48",
   "metadata": {},
   "source": [
    "- `__init__`\n",
    "```python\n",
    "def __init__(self, node_purity, num_samples, num_samples_per_class, predicted_class)\n",
    "```\n",
    "- `_print_decision_tree`: the internal use _print_decision_tree_ function prints an ASCII visualization of the decision tree to a `.txt file` if _file_name_ is specified, else to the `terminal`.\n",
    "```python\n",
    "def _print_decision_tree(self, feature_names, class_names, criterion, file_name, show_details)\n",
    "```\n",
    "- `_print_decision_tree_aux`: the internal use _print_decision_tree_aux_ function serves as the auxiliary funciton for printing an ASCII visualization of the decision tree.\n",
    "```python\n",
    "def _print_decision_tree_aux(self, feature_names, class_names, criterion, show_details, root=False)\n",
    "```        "
   ]
  },
  {
   "cell_type": "markdown",
   "id": "1cc664ac-c618-4648-a00c-27c09584dd98",
   "metadata": {
    "tags": []
   },
   "source": [
    "### References"
   ]
  },
  {
   "cell_type": "markdown",
   "id": "8fed74b6-e368-435d-9967-0774c67cee12",
   "metadata": {},
   "source": [
    "The `_print_decision_tree`, and `_print_decision_tree_aux` functions are shamelessly adapted from a [Stackoverflow Solution](https://stackoverflow.com/a/54074933/1143396), and a [Medium Post](https://towardsdatascience.com/decision-tree-from-scratch-in-python-46e99dfea775) published by Joachim Valente, as it is not in the scope of this project.\n",
    "\n",
    "Our contribution to the ASCII visualization involves modifying the functions to support visualization of all supported node splitting algorithms, while also providing the option to save the output decision tree structure to a .txt file.\n",
    "\n",
    "We express our sincere appreciation to the authors of their original contribution to the ASCII visulization of the decision tree.\n",
    "1. [Stackoverflow Solution by users/1143396/j-v](https://stackoverflow.com/a/54074933/1143396)\n",
    "2. [Medium Post by Joachim Valente](https://towardsdatascience.com/decision-tree-from-scratch-in-python-46e99dfea775)"
   ]
  },
  {
   "cell_type": "markdown",
   "id": "6cc4e0e9-a124-46aa-9472-6eca56ad2247",
   "metadata": {},
   "source": [
    "### class Node"
   ]
  },
  {
   "cell_type": "code",
   "execution_count": 9,
   "id": "f5d252e9-0c2e-4f17-aeca-e2c33aac3cbd",
   "metadata": {},
   "outputs": [],
   "source": [
    "class Node:\n",
    "    \"\"\"\n",
    "    Class of the decision tree node.\n",
    "    \"\"\"\n",
    "    def __init__(self, node_purity, num_samples, num_samples_per_class, predicted_class):\n",
    "        self.node_purity = node_purity\n",
    "        self.num_samples = num_samples\n",
    "        self.num_samples_per_class = num_samples_per_class\n",
    "        self.predicted_class = predicted_class\n",
    "        self.feature_index = 0\n",
    "        self.threshold = 0\n",
    "        self.left = None\n",
    "        self.right = None\n",
    "\n",
    "    def _print_decision_tree(self, feature_names, class_names, criterion, file_name, show_details):\n",
    "        \"\"\"\n",
    "        Print an ASCII visualization of the decision tree to a `.txt file` if _file_name_ is specified, else to the `terminal`.\n",
    "        \"\"\"\n",
    "        # create folder if it doesn't exist\n",
    "        file_output_path = \"dtrees\"\n",
    "        if not os.path.exists(file_output_path):\n",
    "            os.makedirs(file_output_path)\n",
    "\n",
    "        if file_name:\n",
    "            with open(f\"{file_output_path}/{file_name}\", 'w') as f:\n",
    "                lines, _, _, _ = self._print_decision_tree_aux(feature_names, class_names, criterion, show_details, root=True)\n",
    "                for line in lines:\n",
    "                    f.write(line + '\\n')\n",
    "        else:\n",
    "            lines, _, _, _ = self._print_decision_tree_aux(feature_names, class_names, criterion, show_details, root=True)\n",
    "            for line in lines:\n",
    "                print(line)\n",
    "\n",
    "    def _print_decision_tree_aux(self, feature_names, class_names, criterion, show_details, root=False):\n",
    "        \"\"\"\n",
    "        Auxiliary Funciton for printing an ASCII visualization of the decision tree.\n",
    "        \"\"\"\n",
    "        criterion_purity = {\"gini-impurity\": \"Gini Impurity\", \n",
    "                            \"chi-square\": \"Max Chi2\",\n",
    "                            \"information-gain\": \"Information Gain\", \n",
    "                            \"reduction-in-variance\": \"Variance\"}\n",
    "        is_leaf = not self.right\n",
    "        if is_leaf:\n",
    "            lines = [class_names[self.predicted_class]]\n",
    "        else:\n",
    "            lines = [f\"{feature_names[self.feature_index]} < {self.threshold:.3f}\"]\n",
    "        if show_details:\n",
    "            lines += [\n",
    "                f\"{criterion_purity[criterion]} = {self.node_purity:0.3e}\",\n",
    "                f\"#Samples = {self.num_samples}\",\n",
    "                str(self.num_samples_per_class),\n",
    "            ]\n",
    "        width = max(len(line) for line in lines)\n",
    "        height = len(lines)\n",
    "        if is_leaf:\n",
    "            lines = [f\"║ {line:^{width}} ║\" for line in lines]\n",
    "            lines.insert(0, \"╔\" + \"═\" * (width + 2) + \"╗\")\n",
    "            lines.append(\"╚\" + \"═\" * (width + 2) + \"╝\")\n",
    "        else:\n",
    "            lines = [f\"│ {line:^{width}} │\" for line in lines]\n",
    "            lines.insert(0, \"┌\" + \"─\" * (width + 2) + \"┐\")\n",
    "            lines.append(\"└\" + \"─\" * (width + 2) + \"┘\")\n",
    "            lines[-2] = \"┤\" + lines[-2][1:-1] + \"├\"\n",
    "        width += 4  # for padding\n",
    "\n",
    "        if is_leaf:\n",
    "            middle = width // 2\n",
    "            lines[0] = lines[0][:middle] + \"╧\" + lines[0][middle + 1 :]\n",
    "            return lines, width, height, middle\n",
    "\n",
    "        # If not a leaf, must have two children.\n",
    "        left, n, p, x = self.left._print_decision_tree_aux(feature_names, class_names, criterion, show_details)\n",
    "        right, m, q, y = self.right._print_decision_tree_aux(feature_names, class_names, criterion, show_details)\n",
    "        top_lines = [n * \" \" + line + m * \" \" for line in lines[:-2]]\n",
    "        middle_line = x * \" \" + \"┌\" + (n - x - 1) * \"─\" + lines[-2] + y * \"─\" + \"┐\" + (m - y - 1) * \" \"\n",
    "        bottom_line = x * \" \" + \"│\" + (n - x - 1) * \" \" + lines[-1] + y * \" \" + \"│\" + (m - y - 1) * \" \"\n",
    "\n",
    "        if p < q:\n",
    "            left += [n * \" \"] * (q - p)\n",
    "        elif q < p:\n",
    "            right += [m * \" \"] * (p - q)\n",
    "        zipped_lines = zip(left, right)\n",
    "        lines = (\n",
    "            top_lines\n",
    "            + [middle_line, bottom_line]\n",
    "            + [a + width * \" \" + b for a, b in zipped_lines]\n",
    "        )\n",
    "        middle = n + width // 2\n",
    "        if not root:\n",
    "            lines[0] = lines[0][:middle] + \"┴\" + lines[0][middle + 1 :]\n",
    "        return lines, n + m + width, max(p, q) + 2 + len(top_lines), middle"
   ]
  },
  {
   "cell_type": "markdown",
   "id": "785e1326-2806-4567-ada1-1fc83e4a0728",
   "metadata": {
    "tags": []
   },
   "source": [
    "## Datasets"
   ]
  },
  {
   "cell_type": "markdown",
   "id": "b917cdb2-c73f-4728-9203-56f3ed2cf39e",
   "metadata": {
    "tags": []
   },
   "source": [
    "### Dataset Dictionary\n",
    "\n",
    "To facilitate further applications, we have devised a dictionary to store all datasets."
   ]
  },
  {
   "cell_type": "code",
   "execution_count": 10,
   "id": "97398169-5972-408c-ae89-587343038c89",
   "metadata": {},
   "outputs": [],
   "source": [
    "dataset_dict = {\"iris\": load_iris(), \"digits\": load_digits()}"
   ]
  },
  {
   "cell_type": "markdown",
   "id": "c8210876-021c-4534-9ac1-ab7fb65a478e",
   "metadata": {
    "tags": []
   },
   "source": [
    "### The Iris Dataset"
   ]
  },
  {
   "cell_type": "markdown",
   "id": "4d2b88c1-e373-4b94-9548-462cb5ff194b",
   "metadata": {},
   "source": [
    "We have opted to use the [`Iris Dataset`](https://scikit-learn.org/stable/modules/generated/sklearn.datasets.load_iris.html) from [`scikit-learn`](https://scikit-learn.org/stable/index.html) to exhibit the workings of our self-implemented decision tree classifier.\n",
    "\n",
    "The Iris Dataset is a well-known multi-class classification dataset that has gained significant popularity in the research community. The following table shows the in-depth detail of the Iris Dataset from scikit-learn:\n",
    "\n",
    "| Iris Dataset Characteristics | Details        |\n",
    "| :--------------------------- | :------------- |\n",
    "| Classes                      | 3              |\n",
    "| Samples per class            | 50             |\n",
    "| Samples total                | 150            |\n",
    "| Dimensionality               | 4              |\n",
    "| Features                     | real, positive |"
   ]
  },
  {
   "cell_type": "markdown",
   "id": "a38370af-72c4-42b7-8ee8-0f5ef320fcdb",
   "metadata": {
    "tags": []
   },
   "source": [
    "#### Import Iris Dataset"
   ]
  },
  {
   "cell_type": "code",
   "execution_count": 11,
   "id": "5596b218-a436-4a68-8462-984583d9964e",
   "metadata": {},
   "outputs": [],
   "source": [
    "chosen_data = \"iris\"\n",
    "datas, labels = dataset_dict[chosen_data].data, dataset_dict[chosen_data].target\n",
    "characteristics_name = [\"Sepal\", \"Petal\"]\n",
    "features_name = {0 : \"Sepal Length [cm]\", 1 : \"Sepal Width [cm]\", 2 : \"Petal Length [cm]\", 3 : \"Petal Width [cm]\"}\n",
    "classes_name = [\"Setosa\", \"Versicolour\", \"Virginica\"]"
   ]
  },
  {
   "cell_type": "markdown",
   "id": "73885df9-f268-4024-a522-cd6af24dcab8",
   "metadata": {
    "tags": []
   },
   "source": [
    "#### Visulization of the Iris Dataset"
   ]
  },
  {
   "cell_type": "code",
   "execution_count": 12,
   "id": "e1c98246-8d98-42b5-860d-c4c29197305e",
   "metadata": {},
   "outputs": [
    {
     "data": {
      "image/png": "[encoded data removed]",
      "text/plain": [
       "<Figure size 1000x500 with 2 Axes>"
      ]
     },
     "metadata": {},
     "output_type": "display_data"
    }
   ],
   "source": [
    "n_plots = 2\n",
    "fig, axs = plt.subplots(1, n_plots, figsize = (10,5))\n",
    "fig.subplots_adjust(wspace=0.3)\n",
    "for i in range(n_plots):\n",
    "    x_min, x_max = datas[:, i*2].min() - 0.5, datas[:, i*2].max() + 0.5\n",
    "    y_min, y_max = datas[:, i*2 + 1].min() - 0.5, datas[:, i*2 + 1].max() + 0.5\n",
    "\n",
    "    scatter = axs[i].scatter(datas[:, i*2], datas[:, i*2 + 1], c=labels, cmap=plt.cm.Set1, edgecolor=\"k\", s=30)\n",
    "    handles, _ = scatter.legend_elements()\n",
    "    legend = axs[i].legend(handles, classes_name, title=\"Classes\")\n",
    "    legend.get_title().set_fontsize(9)\n",
    "    legend.get_title().set_fontstyle('italic')\n",
    "    for label in legend.get_texts():\n",
    "        label.set_fontstyle('italic')\n",
    "        label.set_fontsize(8)\n",
    "    axs[i].grid(True, linewidth=0.5, color='gray')\n",
    "\n",
    "    axs[i].set_title(f'Comparison of {characteristics_name[i]} Width vs. Length')\n",
    "    \n",
    "    axs[i].set_xlabel(features_name[i*2])\n",
    "    axs[i].set_ylabel(features_name[i*2 + 1])\n",
    "\n",
    "    axs[i].set_xlim(x_min, x_max)\n",
    "    axs[i].set_ylim(y_min, y_max)\n",
    "   \n",
    "plt.show()"
   ]
  },
  {
   "cell_type": "markdown",
   "id": "41acc054-d24d-49b7-9c3f-f28f81562bf4",
   "metadata": {
    "tags": []
   },
   "source": [
    "## Demonstration of the Decision Tree Classifier"
   ]
  },
  {
   "cell_type": "markdown",
   "id": "2352610c-cb7c-47a4-b85d-e18c27c3fe59",
   "metadata": {
    "tags": []
   },
   "source": [
    "### Test Cases for the Decision Tree Classifier"
   ]
  },
  {
   "cell_type": "code",
   "execution_count": 13,
   "id": "17dcc90d-c260-4edf-8fba-d7cf12322cf3",
   "metadata": {},
   "outputs": [],
   "source": [
    "# Iris Dataset Test Cases (self created)\n",
    "testcase = [[6.0, 2.5, 5.0, 1.8],\n",
    "            [5.1, 3.5, 1.4, 0.2],\n",
    "            [7.5, 3.0, 4.6, 1.3], \n",
    "            [4.7, 3.2, 1.3, 0.2], \n",
    "            [6.6, 3.3, 6.0, 2.5], \n",
    "            [5.8, 2.9, 4.5, 1.2]]"
   ]
  },
  {
   "cell_type": "markdown",
   "id": "1c3545dd-5ae2-4c34-83fb-edd14797d6f5",
   "metadata": {
    "tags": []
   },
   "source": [
    "### The _scikit learn_ Decision Tree Classifier\n",
    "\n",
    "To evaluate our self-implemented Decision Tree Classifier, we use the [DecisionTreeClassifier](https://scikit-learn.org/stable/modules/generated/sklearn.tree.DecisionTreeClassifier.html) from [scikit learn](https://scikit-learn.org/stable/index.html) to obtain the classification predictions of the test cases, which will serve as the ground truth for our evaluation."
   ]
  },
  {
   "cell_type": "code",
   "execution_count": 14,
   "id": "8e8411c9-6945-4995-8576-2217423586d8",
   "metadata": {},
   "outputs": [
    {
     "name": "stdout",
     "output_type": "stream",
     "text": [
      "\n",
      "Current Dataset: iris    Current Criterion: sklearn default (gini)\n",
      "sklearn's default (gini) Prediction: [2 0 1 0 2 1]\n"
     ]
    }
   ],
   "source": [
    "print(f\"\\nCurrent Dataset: {chosen_data:{len(max(list(dataset_dict.keys()), key=len))}s}\" \n",
    "      f\"  Current Criterion: sklearn default (gini)\")\n",
    "clf = tree.DecisionTreeClassifier()\n",
    "clf = clf.fit(datas, labels)\n",
    "print(f\"sklearn's default (gini) Prediction: {clf.predict(testcase)}\")"
   ]
  },
  {
   "cell_type": "markdown",
   "id": "5d0e42bc-ce4e-4341-a88d-fc763a9ed898",
   "metadata": {},
   "source": [
    "Once we have the ground truth (shown in the cell above), we can then compare the predictions made by our self-implemented classifier with the ground truth, and evaluate the performance of our classifier based on accuracy."
   ]
  },
  {
   "cell_type": "markdown",
   "id": "3016d11f-233d-4fad-b15c-3dbf23da884b",
   "metadata": {
    "tags": []
   },
   "source": [
    "### Self-Implemented Decision Tree Classifier\n",
    "\n",
    "In this section, we obtain the self-implemented Decision Tree Classifier prediction of the test cases with all the supported node splitting algorithms."
   ]
  },
  {
   "cell_type": "markdown",
   "id": "5f2816ab-f9de-44b2-b507-7e48c30458fa",
   "metadata": {
    "tags": []
   },
   "source": [
    "#### Node Splitting Algorithms\n",
    "\n",
    "To facilitate further applications, we have devised a list to store all supported node splitting criteria."
   ]
  },
  {
   "cell_type": "code",
   "execution_count": 15,
   "id": "300888e3-da1c-43b5-9b45-508bd1b75333",
   "metadata": {},
   "outputs": [],
   "source": [
    "split_criteria = [\"gini-impurity\", \"chi-square\", \"information-gain\", \"reduction-in-variance\"]"
   ]
  },
  {
   "cell_type": "markdown",
   "id": "bdcd9cd6-1730-4b71-9379-445216846ec6",
   "metadata": {
    "tags": []
   },
   "source": [
    "#### Gini Impurity"
   ]
  },
  {
   "cell_type": "code",
   "execution_count": 16,
   "id": "bf372bbd-7513-480b-8c9a-8250a1c68c45",
   "metadata": {},
   "outputs": [],
   "source": [
    "m = split_criteria[0]"
   ]
  },
  {
   "cell_type": "code",
   "execution_count": 17,
   "id": "3f8312da-764e-4539-b97e-fd2d015621b7",
   "metadata": {},
   "outputs": [
    {
     "name": "stdout",
     "output_type": "stream",
     "text": [
      "\n",
      "Current Dataset: iris    Current Criterion: gini-impurity        \n",
      "gini-impurity's Prediction: [2, 0, 1, 0, 2, 1]\n"
     ]
    }
   ],
   "source": [
    "print(f\"\\nCurrent Dataset: {chosen_data:{len(max(list(dataset_dict.keys()), key=len))}s}\" \n",
    "      f\"  Current Criterion: {m:{len(max(split_criteria, key=len))}s}\")\n",
    "\n",
    "clf = DecisionTreeClassifier()\n",
    "clf.fit(datas, labels, criterion=m)\n",
    "clf.print_decision_tree(feature_names=[f\"{chosen_data} {i}\" for i in range(1,len(datas[0])+1)], \n",
    "                        class_names=[f\"Class {i}\" for i in range(1,len(set(labels))+1)], \n",
    "                        criterion=m,\n",
    "                        file_name=f\"{chosen_data}_{m}.txt\",\n",
    "                        show_details=True\n",
    "                        )\n",
    "\n",
    "print(f\"{m}'s Prediction: {clf.predict(testcase)}\")"
   ]
  },
  {
   "cell_type": "markdown",
   "id": "e88a478c-1b3e-4e5c-91ec-bc2433e0bc1b",
   "metadata": {},
   "source": [
    "##### **ASCII Visulization of the Gini Impurity Decision Tree**\n",
    "Follow the listed steps to display the ASCII visualization of the decision tree in the terminal and allow for scrolling in case the tree is too large to fit in the terminal window:\n",
    "1. Hit \"Kernel\"->\"Restart & Run All\".\n",
    "2. Open the terminal window.\n",
    "3. Navigate to the directory of the main Jupyter Notebook file.\n",
    "4. Type `less -S dtrees/iris_gini-impurity.txt`."
   ]
  },
  {
   "cell_type": "markdown",
   "id": "e2aec18d-b187-4584-af71-d9277445d240",
   "metadata": {
    "tags": []
   },
   "source": [
    "#### Chi-Square"
   ]
  },
  {
   "cell_type": "code",
   "execution_count": 18,
   "id": "b39e6e09-d81e-4209-8c71-5adff6105a8c",
   "metadata": {},
   "outputs": [],
   "source": [
    "m = split_criteria[1]"
   ]
  },
  {
   "cell_type": "code",
   "execution_count": 19,
   "id": "dbba8f4a-be92-4938-a4ed-d7cc09b49107",
   "metadata": {},
   "outputs": [
    {
     "name": "stdout",
     "output_type": "stream",
     "text": [
      "\n",
      "Current Dataset: iris    Current Criterion: chi-square           \n",
      "chi-square's Prediction: [2, 0, 1, 0, 2, 1]\n"
     ]
    }
   ],
   "source": [
    "print(f\"\\nCurrent Dataset: {chosen_data:{len(max(list(dataset_dict.keys()), key=len))}s}\" \n",
    "      f\"  Current Criterion: {m:{len(max(split_criteria, key=len))}s}\")\n",
    "\n",
    "clf = DecisionTreeClassifier()\n",
    "clf.fit(datas, labels, criterion=m)\n",
    "clf.print_decision_tree(feature_names=[f\"{chosen_data} {i}\" for i in range(1,len(datas[0])+1)], \n",
    "                        class_names=[f\"Class {i}\" for i in range(1,len(set(labels))+1)], \n",
    "                        criterion=m,\n",
    "                        file_name=f\"{chosen_data}_{m}.txt\",\n",
    "                        show_details=True\n",
    "                        )\n",
    "\n",
    "print(f\"{m}'s Prediction: {clf.predict(testcase)}\")"
   ]
  },
  {
   "cell_type": "markdown",
   "id": "32213f87-3d5e-4738-9943-baeebcd21db0",
   "metadata": {},
   "source": [
    "##### **ASCII Visulization of the Chi-Square Decision Tree**\n",
    "Follow the listed steps to display the ASCII visualization of the decision tree in the terminal and allow for scrolling in case the tree is too large to fit in the terminal window:\n",
    "1. Hit \"Kernel\"->\"Restart & Run All\".\n",
    "2. Open the terminal window.\n",
    "3. Navigate to the directory of the main Jupyter Notebook file.\n",
    "4. Type `less -S dtrees/iris_chi-square.txt`."
   ]
  },
  {
   "cell_type": "markdown",
   "id": "c7b7d88e-baca-40db-8977-71d7d7ea8bc3",
   "metadata": {
    "tags": []
   },
   "source": [
    "#### Information Gain"
   ]
  },
  {
   "cell_type": "code",
   "execution_count": 20,
   "id": "208692cb-b7ac-4c3b-b72f-022d91e731fc",
   "metadata": {},
   "outputs": [],
   "source": [
    "m = split_criteria[2]"
   ]
  },
  {
   "cell_type": "code",
   "execution_count": 21,
   "id": "daff29a4-6e6a-4cb8-8a66-7093463763f4",
   "metadata": {},
   "outputs": [
    {
     "name": "stdout",
     "output_type": "stream",
     "text": [
      "\n",
      "Current Dataset: iris    Current Criterion: information-gain     \n",
      "information-gain's Prediction: [2, 0, 1, 0, 2, 1]\n"
     ]
    }
   ],
   "source": [
    "print(f\"\\nCurrent Dataset: {chosen_data:{len(max(list(dataset_dict.keys()), key=len))}s}\" \n",
    "      f\"  Current Criterion: {m:{len(max(split_criteria, key=len))}s}\")\n",
    "\n",
    "clf = DecisionTreeClassifier()\n",
    "clf.fit(datas, labels, criterion=m)\n",
    "clf.print_decision_tree(feature_names=[f\"{chosen_data} {i}\" for i in range(1,len(datas[0])+1)], \n",
    "                        class_names=[f\"Class {i}\" for i in range(1,len(set(labels))+1)], \n",
    "                        criterion=m,\n",
    "                        file_name=f\"{chosen_data}_{m}.txt\",\n",
    "                        show_details=True\n",
    "                        )\n",
    "\n",
    "print(f\"{m}'s Prediction: {clf.predict(testcase)}\")"
   ]
  },
  {
   "cell_type": "markdown",
   "id": "dfcec223-c883-461f-aaa5-d101d0fd2c4d",
   "metadata": {},
   "source": [
    "##### **ASCII Visulization of the Information Gain Decision Tree**\n",
    "Follow the listed steps to display the ASCII visualization of the decision tree in the terminal and allow for scrolling in case the tree is too large to fit in the terminal window:\n",
    "1. Hit \"Kernel\"->\"Restart & Run All\".\n",
    "2. Open the terminal window.\n",
    "3. Navigate to the directory of the main Jupyter Notebook file.\n",
    "4. Type `less -S dtrees/iris_information-gain.txt`."
   ]
  },
  {
   "cell_type": "markdown",
   "id": "3092e0f9-b845-4a9b-bd67-6f41f06e015f",
   "metadata": {
    "tags": []
   },
   "source": [
    "#### Reduction in Variance"
   ]
  },
  {
   "cell_type": "code",
   "execution_count": 22,
   "id": "6cb48e65-9180-4405-a803-d3ef2079dfc2",
   "metadata": {},
   "outputs": [],
   "source": [
    "m = split_criteria[3]"
   ]
  },
  {
   "cell_type": "code",
   "execution_count": 23,
   "id": "6da208b6-66b8-4cf2-8cea-c7af12e84a05",
   "metadata": {},
   "outputs": [
    {
     "name": "stdout",
     "output_type": "stream",
     "text": [
      "\n",
      "Current Dataset: iris    Current Criterion: reduction-in-variance\n",
      "reduction-in-variance's Prediction: [2, 0, 1, 0, 2, 1]\n"
     ]
    }
   ],
   "source": [
    "print(f\"\\nCurrent Dataset: {chosen_data:{len(max(list(dataset_dict.keys()), key=len))}s}\" \n",
    "      f\"  Current Criterion: {m:{len(max(split_criteria, key=len))}s}\")\n",
    "\n",
    "clf = DecisionTreeClassifier()\n",
    "clf.fit(datas, labels, criterion=m)\n",
    "clf.print_decision_tree(feature_names=[f\"{chosen_data} {i}\" for i in range(1,len(datas[0])+1)], \n",
    "                        class_names=[f\"Class {i}\" for i in range(1,len(set(labels))+1)], \n",
    "                        criterion=m,\n",
    "                        file_name=f\"{chosen_data}_{m}.txt\",\n",
    "                        show_details=True\n",
    "                        )\n",
    "\n",
    "print(f\"{m}'s Prediction: {clf.predict(testcase)}\")"
   ]
  },
  {
   "cell_type": "markdown",
   "id": "2821246c-85b0-4e0e-84c5-6b924b605ce7",
   "metadata": {},
   "source": [
    "##### **ASCII Visulization of the Reduction in Variance Decision Tree**\n",
    "Follow the listed steps to display the ASCII visualization of the decision tree in the terminal and allow for scrolling in case the tree is too large to fit in the terminal window:\n",
    "1. Hit \"Kernel\"->\"Restart & Run All\".\n",
    "2. Open the terminal window.\n",
    "3. Navigate to the directory of the main Jupyter Notebook file.\n",
    "4. Type `less -S dtrees/iris_reduction-in-variance.txt`."
   ]
  },
  {
   "cell_type": "markdown",
   "id": "485a0964-0c24-4484-9adf-2dfe6036f1e5",
   "metadata": {
    "tags": []
   },
   "source": [
    "### Evaluation of Self-Implemented Decision Tree Classifier\n",
    "\n",
    "Now that we have obtained the ground truth using the Decision Tree Classifier from [scikit learn](https://scikit-learn.org/stable/index.html) and our self-implemented Decision Tree Classifier, we can compare the predictions made by our classifier with the ground truth to evaluate its performance based on accuracy."
   ]
  },
  {
   "cell_type": "markdown",
   "id": "2b03c065-6585-48fb-80ed-ac38180e6209",
   "metadata": {},
   "source": [
    "| Decision Tree Classifier    | Splitting Criteria    | Prediction         |\n",
    "| :-------------------------- | :-------------------- | :----------------- |\n",
    "| ground truth (scikit learn) | default (gini)        | [2, 0, 1, 0, 2, 1] |\n",
    "| self-implemented            | gini-impurity         | [2, 0, 1, 0, 2, 1] |\n",
    "| self-implemented            | chi-square            | [2, 0, 1, 0, 2, 1] |\n",
    "| self-implemented            | information-gain      | [2, 0, 1, 0, 2, 1] |\n",
    "| self-implemented            | reduction-in-variance | [2, 0, 1, 0, 2, 1] |"
   ]
  },
  {
   "cell_type": "markdown",
   "id": "ea533cf9-b4bb-46e5-afbb-e26780906958",
   "metadata": {},
   "source": [
    "As can be seen from the table presented above, the predictions made by our self-implemented Decision Tree Classifier using all supported node splitting algorithms are identical to the ground truth obtained from scikit-learn. This indicates that our classifier is successful in accurately predicting the classification of the test cases."
   ]
  },
  {
   "cell_type": "code",
   "execution_count": 24,
   "id": "92eab7fb-e49c-4c7c-aac8-c86505417a69",
   "metadata": {},
   "outputs": [],
   "source": [
    "# End of Project"
   ]
  }
 ],
 "metadata": {
  "kernelspec": {
   "display_name": "Python 3 (ipykernel)",
   "language": "python",
   "name": "python3"
  },
  "language_info": {
   "codemirror_mode": {
    "name": "ipython",
    "version": 3
   },
   "file_extension": ".py",
   "mimetype": "text/x-python",
   "name": "python",
   "nbconvert_exporter": "python",
   "pygments_lexer": "ipython3",
   "version": "3.11.2"
  }
 },
 "nbformat": 4,
 "nbformat_minor": 5
}
